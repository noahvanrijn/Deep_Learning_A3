{
 "cells": [
  {
   "cell_type": "code",
   "execution_count": 23,
   "metadata": {},
   "outputs": [],
   "source": [
    "from data_rnn import load_ndfa, load_brackets\n",
    "from data_prep import pad_and_convert\n",
    "import pandas as pd\n",
    "import numpy as np\n",
    "import torch\n",
    "from torch import nn\n",
    "import torch.nn.functional as F\n",
    "from torch.utils.data import DataLoader, TensorDataset"
   ]
  },
  {
   "cell_type": "code",
   "execution_count": 24,
   "metadata": {},
   "outputs": [],
   "source": [
    "x_train_ndfa, (i2w_ndfa, w2i_ndfa) = load_ndfa(n=150_000)\n",
    "x_train_brackets, (i2w_brackets, w2i_brackets) = load_brackets(n=150_000)"
   ]
  },
  {
   "cell_type": "code",
   "execution_count": 64,
   "metadata": {},
   "outputs": [
    {
     "name": "stdout",
     "output_type": "stream",
     "text": [
      "ss\n"
     ]
    }
   ],
   "source": [
    "print(''.join([i2w_ndfa[i] for i in  x_train_ndfa[50]]))"
   ]
  },
  {
   "cell_type": "code",
   "execution_count": 26,
   "metadata": {},
   "outputs": [
    {
     "name": "stdout",
     "output_type": "stream",
     "text": [
      "()\n"
     ]
    }
   ],
   "source": [
    "print(''.join([i2w_brackets[i] for i in  x_train_brackets[10_000]]) )"
   ]
  },
  {
   "cell_type": "code",
   "execution_count": 27,
   "metadata": {},
   "outputs": [
    {
     "data": {
      "text/plain": [
       "158"
      ]
     },
     "execution_count": 27,
     "metadata": {},
     "output_type": "execute_result"
    }
   ],
   "source": [
    "len(x_train_ndfa[-1])"
   ]
  },
  {
   "cell_type": "code",
   "execution_count": 28,
   "metadata": {},
   "outputs": [
    {
     "data": {
      "text/plain": [
       "1"
      ]
     },
     "execution_count": 28,
     "metadata": {},
     "output_type": "execute_result"
    }
   ],
   "source": [
    "len(i2w_ndfa[-1])"
   ]
  },
  {
   "cell_type": "code",
   "execution_count": 29,
   "metadata": {},
   "outputs": [],
   "source": [
    "device = torch.device('cuda' if torch.cuda.is_available() else 'cpu')"
   ]
  },
  {
   "cell_type": "code",
   "execution_count": 30,
   "metadata": {},
   "outputs": [],
   "source": [
    "class LSTM(nn.Module):\n",
    "    def __init__(self, vocab_size, emb_size, h, num_char, n_layers=1):\n",
    "        super(LSTM, self).__init__()\n",
    "\n",
    "        self.embedding = nn.Embedding(vocab_size, emb_size)\n",
    "        self.lstm = nn.LSTM(input_size=emb_size, hidden_size=h, num_layers=n_layers, batch_first=True)\n",
    "        self.fc = nn.Linear(h, num_char)\n",
    "    \n",
    "    def forward(self, input_seq, h):\n",
    "        \n",
    "\n",
    "        embedded = self.embedding(input_seq)\n",
    "        lstm_out, hidden = self.lstm(embedded, h)\n",
    "        lstm_out = lstm_out[:, -1, :]\n",
    "        output = self.fc(lstm_out)\n",
    "        return output, hidden\n"
   ]
  },
  {
   "cell_type": "code",
   "execution_count": 31,
   "metadata": {},
   "outputs": [],
   "source": [
    "def pad_and_convert2(batch, w2i):\n",
    "    # Get indices for '.start' and '.end' tokens from the w2i dictionary\n",
    "    start_token = w2i['.start']\n",
    "    end_token = w2i['.end']\n",
    "    \n",
    "    # Prepend '.start' and append '.end' to each sequence in the batch\n",
    "    batch = [[start_token] + x + [end_token] for x in batch]\n",
    "    \n",
    "    # Calculate the maximum length after adding start and end tokens\n",
    "    max_len = max([len(x) for x in batch])\n",
    "    \n",
    "    # Pad the sequences with the '.pad' token\n",
    "    batch = [x + [w2i['.pad']] * (max_len - len(x)) for x in batch]\n",
    "    \n",
    "    # Convert the batch to a PyTorch tensor\n",
    "    batch = torch.tensor(batch, dtype=torch.long)\n",
    "    \n",
    "    return batch"
   ]
  },
  {
   "cell_type": "code",
   "execution_count": 32,
   "metadata": {},
   "outputs": [
    {
     "data": {
      "text/plain": [
       "158"
      ]
     },
     "execution_count": 32,
     "metadata": {},
     "output_type": "execute_result"
    }
   ],
   "source": [
    "len(x_train_ndfa[-1])"
   ]
  },
  {
   "cell_type": "code",
   "execution_count": 33,
   "metadata": {},
   "outputs": [
    {
     "data": {
      "text/plain": [
       "2"
      ]
     },
     "execution_count": 33,
     "metadata": {},
     "output_type": "execute_result"
    }
   ],
   "source": [
    "len(x_train_ndfa[0])"
   ]
  },
  {
   "cell_type": "code",
   "execution_count": 34,
   "metadata": {},
   "outputs": [],
   "source": [
    "x_train_ndfa_padded = pad_and_convert(x_train_ndfa)\n",
    "x_train_brackets_padded = pad_and_convert(x_train_brackets)"
   ]
  },
  {
   "cell_type": "code",
   "execution_count": 48,
   "metadata": {},
   "outputs": [
    {
     "data": {
      "text/plain": [
       "1022"
      ]
     },
     "execution_count": 48,
     "metadata": {},
     "output_type": "execute_result"
    }
   ],
   "source": [
    "len(x_train_brackets_padded[-1])"
   ]
  },
  {
   "cell_type": "markdown",
   "metadata": {},
   "source": [
    "Nieuwe pad and convert, sequence zou toch niet van 158 naar 1022 moeten gaan? Ze zijn op volgorde van klein naar groot al neergezet\n",
    "\n",
    "Langste sequence was 158 + .start +.end is 160. Alle sequences zijn nu van lengte 160"
   ]
  },
  {
   "cell_type": "code",
   "execution_count": 35,
   "metadata": {},
   "outputs": [],
   "source": [
    "x_train_ndfa_padded2 = pad_and_convert2(x_train_ndfa, w2i_ndfa)\n",
    "x_train_brackets_padded2 = pad_and_convert2(x_train_brackets, w2i_brackets)"
   ]
  },
  {
   "cell_type": "code",
   "execution_count": 36,
   "metadata": {},
   "outputs": [
    {
     "data": {
      "text/plain": [
       "160"
      ]
     },
     "execution_count": 36,
     "metadata": {},
     "output_type": "execute_result"
    }
   ],
   "source": [
    "len(x_train_ndfa_padded2[-1])"
   ]
  },
  {
   "cell_type": "code",
   "execution_count": 55,
   "metadata": {},
   "outputs": [
    {
     "data": {
      "text/plain": [
       "160"
      ]
     },
     "execution_count": 55,
     "metadata": {},
     "output_type": "execute_result"
    }
   ],
   "source": [
    "len(x_train_ndfa_padded2[0])"
   ]
  },
  {
   "cell_type": "code",
   "execution_count": 37,
   "metadata": {},
   "outputs": [
    {
     "data": {
      "text/plain": [
       "tensor([[5, 5, 0,  ..., 0, 0, 0],\n",
       "        [5, 5, 0,  ..., 0, 0, 0],\n",
       "        [5, 5, 0,  ..., 0, 0, 0],\n",
       "        ...,\n",
       "        [5, 5, 0,  ..., 0, 0, 0],\n",
       "        [5, 5, 0,  ..., 0, 0, 0],\n",
       "        [5, 5, 0,  ..., 0, 0, 0]])"
      ]
     },
     "execution_count": 37,
     "metadata": {},
     "output_type": "execute_result"
    }
   ],
   "source": [
    "x_train_ndfa_padded[:10]"
   ]
  },
  {
   "cell_type": "code",
   "execution_count": 39,
   "metadata": {},
   "outputs": [
    {
     "data": {
      "text/plain": [
       "158"
      ]
     },
     "execution_count": 39,
     "metadata": {},
     "output_type": "execute_result"
    }
   ],
   "source": [
    "max_len = max([len(x) for x in x_train_ndfa])\n",
    "max_len"
   ]
  },
  {
   "cell_type": "code",
   "execution_count": 40,
   "metadata": {},
   "outputs": [],
   "source": [
    "x_train = x_train_ndfa_padded[:, :-1]\n",
    "y_train = x_train_ndfa_padded[:, -1]"
   ]
  },
  {
   "cell_type": "code",
   "execution_count": 41,
   "metadata": {},
   "outputs": [
    {
     "name": "stdout",
     "output_type": "stream",
     "text": [
      "<class 'list'>\n"
     ]
    }
   ],
   "source": [
    "print(type(x_train_ndfa))"
   ]
  },
  {
   "cell_type": "code",
   "execution_count": 42,
   "metadata": {},
   "outputs": [],
   "source": [
    "model = LSTM(vocab_size=len(set(w2i_ndfa)), emb_size=300, h=300, num_char=len(set(w2i_ndfa)), n_layers=1)"
   ]
  },
  {
   "cell_type": "code",
   "execution_count": 43,
   "metadata": {},
   "outputs": [],
   "source": [
    "vocab_size = len(set(w2i_ndfa))\n",
    "emb_size = 300\n",
    "h = 300\n",
    "num_char = vocab_size\n",
    "n_layers = 1"
   ]
  },
  {
   "cell_type": "code",
   "execution_count": 44,
   "metadata": {},
   "outputs": [],
   "source": [
    "num_epochs = 1\n",
    "learning_rate = 0.001"
   ]
  },
  {
   "cell_type": "code",
   "execution_count": 45,
   "metadata": {},
   "outputs": [],
   "source": [
    "# criterion = nn.CrossEntropyLoss(ignore_index=w2i_ndfa['.pad'])\n",
    "criterion = nn.CrossEntropyLoss()\n",
    "optimizer = torch.optim.Adam(model.parameters(), lr=learning_rate)"
   ]
  },
  {
   "cell_type": "code",
   "execution_count": 46,
   "metadata": {},
   "outputs": [],
   "source": [
    "# Use DataLoader for batching\n",
    "dataset_ndfa2 = TensorDataset(x_train_ndfa_padded2)\n",
    "dataloader_ndfa2 = DataLoader(dataset_ndfa2, batch_size=10, shuffle=True)"
   ]
  },
  {
   "cell_type": "markdown",
   "metadata": {},
   "source": [
    "https://www.polarsparc.com/xhtml/DL-LSTM-NextWord.html - laptop gaat steeds out of memory na runnen van onderstaand dat vind ie dus niet zo leuk"
   ]
  },
  {
   "cell_type": "code",
   "execution_count": 19,
   "metadata": {},
   "outputs": [],
   "source": [
    "# num_epochs = 10\n",
    "# for epoch in range(1, num_epochs):\n",
    "#     model.train()\n",
    "#     optimizer.zero_grad()\n",
    "#     y_predict, _ = model(x_train, h)\n",
    "#     loss = criterion(y_predict, y_train)\n",
    "#     print(f'Next Word Model LSTM -> Epoch: {epoch}, Loss: {loss}')\n",
    "#     loss.backward()\n",
    "#     optimizer.step()"
   ]
  },
  {
   "cell_type": "code",
   "execution_count": null,
   "metadata": {},
   "outputs": [],
   "source": [
    "import torch.distributions as dist\n",
    "def sample(lnprobs, temperature=1.0):\n",
    "    \"\"\"\n",
    "    Sample an element from a categorical distribution\n",
    "    :param lnprobs: Outcome logits\n",
    "    :param temperature: Sampling temperature. 1.0 follows the given\n",
    "        distribution, 0.0 returns the maximum probability element. :return: The index of the sampled element.\n",
    "    \"\"\"\n",
    "    if temperature == 0.0:\n",
    "        return lnprobs.argmax()\n",
    "    p = F.softmax(lnprobs / temperature, dim=0)\n",
    "    cd = dist.Categorical(p)\n",
    "    \n",
    "    return cd.sample()"
   ]
  },
  {
   "cell_type": "code",
   "execution_count": 47,
   "metadata": {},
   "outputs": [
    {
     "name": "stdout",
     "output_type": "stream",
     "text": [
      "Batch Index: 0, Batch Size: 10\n"
     ]
    },
    {
     "name": "stdout",
     "output_type": "stream",
     "text": [
      "Epoch [1/1], Iteration [1/15000], Loss: 0.0000\n",
      "Batch Index: 1, Batch Size: 10\n",
      "Epoch [1/1], Iteration [2/15000], Loss: 0.0000\n",
      "Batch Index: 2, Batch Size: 10\n",
      "Epoch [1/1], Iteration [3/15000], Loss: 0.0000\n",
      "Batch Index: 3, Batch Size: 10\n",
      "Epoch [1/1], Iteration [4/15000], Loss: 0.0000\n",
      "Batch Index: 4, Batch Size: 10\n",
      "Epoch [1/1], Iteration [5/15000], Loss: 0.0000\n",
      "Batch Index: 5, Batch Size: 10\n"
     ]
    },
    {
     "ename": "KeyboardInterrupt",
     "evalue": "",
     "output_type": "error",
     "traceback": [
      "\u001b[0;31m---------------------------------------------------------------------------\u001b[0m",
      "\u001b[0;31mKeyboardInterrupt\u001b[0m                         Traceback (most recent call last)",
      "Cell \u001b[0;32mIn[47], line 22\u001b[0m\n\u001b[1;32m     19\u001b[0m loss \u001b[38;5;241m=\u001b[39m criterion(output, target_word)  \n\u001b[1;32m     21\u001b[0m \u001b[38;5;66;03m# Backward pass and optimization\u001b[39;00m\n\u001b[0;32m---> 22\u001b[0m \u001b[43mloss\u001b[49m\u001b[38;5;241;43m.\u001b[39;49m\u001b[43mbackward\u001b[49m\u001b[43m(\u001b[49m\u001b[43m)\u001b[49m\n\u001b[1;32m     23\u001b[0m optimizer\u001b[38;5;241m.\u001b[39mstep()\n\u001b[1;32m     25\u001b[0m total_loss \u001b[38;5;241m+\u001b[39m\u001b[38;5;241m=\u001b[39m loss\u001b[38;5;241m.\u001b[39mitem()\n",
      "File \u001b[0;32m/Library/Frameworks/Python.framework/Versions/3.10/lib/python3.10/site-packages/torch/_tensor.py:487\u001b[0m, in \u001b[0;36mTensor.backward\u001b[0;34m(self, gradient, retain_graph, create_graph, inputs)\u001b[0m\n\u001b[1;32m    477\u001b[0m \u001b[38;5;28;01mif\u001b[39;00m has_torch_function_unary(\u001b[38;5;28mself\u001b[39m):\n\u001b[1;32m    478\u001b[0m     \u001b[38;5;28;01mreturn\u001b[39;00m handle_torch_function(\n\u001b[1;32m    479\u001b[0m         Tensor\u001b[38;5;241m.\u001b[39mbackward,\n\u001b[1;32m    480\u001b[0m         (\u001b[38;5;28mself\u001b[39m,),\n\u001b[0;32m   (...)\u001b[0m\n\u001b[1;32m    485\u001b[0m         inputs\u001b[38;5;241m=\u001b[39minputs,\n\u001b[1;32m    486\u001b[0m     )\n\u001b[0;32m--> 487\u001b[0m \u001b[43mtorch\u001b[49m\u001b[38;5;241;43m.\u001b[39;49m\u001b[43mautograd\u001b[49m\u001b[38;5;241;43m.\u001b[39;49m\u001b[43mbackward\u001b[49m\u001b[43m(\u001b[49m\n\u001b[1;32m    488\u001b[0m \u001b[43m    \u001b[49m\u001b[38;5;28;43mself\u001b[39;49m\u001b[43m,\u001b[49m\u001b[43m \u001b[49m\u001b[43mgradient\u001b[49m\u001b[43m,\u001b[49m\u001b[43m \u001b[49m\u001b[43mretain_graph\u001b[49m\u001b[43m,\u001b[49m\u001b[43m \u001b[49m\u001b[43mcreate_graph\u001b[49m\u001b[43m,\u001b[49m\u001b[43m \u001b[49m\u001b[43minputs\u001b[49m\u001b[38;5;241;43m=\u001b[39;49m\u001b[43minputs\u001b[49m\n\u001b[1;32m    489\u001b[0m \u001b[43m\u001b[49m\u001b[43m)\u001b[49m\n",
      "File \u001b[0;32m/Library/Frameworks/Python.framework/Versions/3.10/lib/python3.10/site-packages/torch/autograd/__init__.py:200\u001b[0m, in \u001b[0;36mbackward\u001b[0;34m(tensors, grad_tensors, retain_graph, create_graph, grad_variables, inputs)\u001b[0m\n\u001b[1;32m    195\u001b[0m     retain_graph \u001b[38;5;241m=\u001b[39m create_graph\n\u001b[1;32m    197\u001b[0m \u001b[38;5;66;03m# The reason we repeat same the comment below is that\u001b[39;00m\n\u001b[1;32m    198\u001b[0m \u001b[38;5;66;03m# some Python versions print out the first line of a multi-line function\u001b[39;00m\n\u001b[1;32m    199\u001b[0m \u001b[38;5;66;03m# calls in the traceback and some print out the last line\u001b[39;00m\n\u001b[0;32m--> 200\u001b[0m \u001b[43mVariable\u001b[49m\u001b[38;5;241;43m.\u001b[39;49m\u001b[43m_execution_engine\u001b[49m\u001b[38;5;241;43m.\u001b[39;49m\u001b[43mrun_backward\u001b[49m\u001b[43m(\u001b[49m\u001b[43m  \u001b[49m\u001b[38;5;66;43;03m# Calls into the C++ engine to run the backward pass\u001b[39;49;00m\n\u001b[1;32m    201\u001b[0m \u001b[43m    \u001b[49m\u001b[43mtensors\u001b[49m\u001b[43m,\u001b[49m\u001b[43m \u001b[49m\u001b[43mgrad_tensors_\u001b[49m\u001b[43m,\u001b[49m\u001b[43m \u001b[49m\u001b[43mretain_graph\u001b[49m\u001b[43m,\u001b[49m\u001b[43m \u001b[49m\u001b[43mcreate_graph\u001b[49m\u001b[43m,\u001b[49m\u001b[43m \u001b[49m\u001b[43minputs\u001b[49m\u001b[43m,\u001b[49m\n\u001b[1;32m    202\u001b[0m \u001b[43m    \u001b[49m\u001b[43mallow_unreachable\u001b[49m\u001b[38;5;241;43m=\u001b[39;49m\u001b[38;5;28;43;01mTrue\u001b[39;49;00m\u001b[43m,\u001b[49m\u001b[43m \u001b[49m\u001b[43maccumulate_grad\u001b[49m\u001b[38;5;241;43m=\u001b[39;49m\u001b[38;5;28;43;01mTrue\u001b[39;49;00m\u001b[43m)\u001b[49m\n",
      "\u001b[0;31mKeyboardInterrupt\u001b[0m: "
     ]
    }
   ],
   "source": [
    "max_length = 50\n",
    "for epoch in range(num_epochs):\n",
    "    total_loss = 0.0\n",
    "    \n",
    "\n",
    "    for batch_idx, (inputs,) in enumerate(dataloader_ndfa2):\n",
    "        print(f'Batch Index: {batch_idx}, Batch Size: {inputs.size(0)}')\n",
    "        model.train()        \n",
    "        optimizer.zero_grad()\n",
    "\n",
    "        # Autoregressive training\n",
    "        h = None\n",
    "        for t in range(inputs.size(1) - 1):  # -1 to exclude the last time step\n",
    "            input_seq = inputs[:, :t+1] # Input sequence up to time step t\n",
    "            target_word = inputs[:, t+1]  # Target is the next word (shifted by one time step)\n",
    "\n",
    "            # Forward pass\n",
    "            output, _ = model(input_seq, h)\n",
    "\n",
    "            # Compute the loss\n",
    "            loss = criterion(output, target_word)  \n",
    "\n",
    "            # Backward pass and optimization\n",
    "            loss.backward()\n",
    "            optimizer.step()\n",
    "\n",
    "            total_loss += loss.item()\n",
    "\n",
    "        # Print the current iteration (outside the inner loop)\n",
    "        print(f'Epoch [{epoch+1}/{num_epochs}], Iteration [{batch_idx+1}/{len(dataloader_ndfa2)}], Loss: {loss.item():.4f}')\n",
    "\n",
    "        # Generate sample from the seed after each epoch - Q7\n",
    "        model.eval()\n",
    "        seed_seq = [w2i_ndfa['.start'], w2i_ndfa['('], w2i_ndfa['('], w2i_ndfa[')']]\n",
    "        seed_input = torch.tensor([seed_seq], dtype=torch.long)\n",
    "        with torch.no_grad():\n",
    "            for t in range(max_length - 1):\n",
    "                output, _ = model(seed_input, h)\n",
    "                next_token = sample(output[:, -1, :])\n",
    "                seed_seq.append(next_token.item())\n",
    "\n",
    "                if next_token == w2i_ndfa['.end']:\n",
    "                    break\n",
    "\n",
    "                seed_input = torch.tensor([[next_token]], dtype=torch.long)\n",
    "            \n",
    "        generated_sequence = [''.join(i2w_ndfa[i] for i in seed_seq)]\n",
    "        print(f'Generated Sequence after epoch {epoch+1}: {generated_sequence}')\n",
    "\n",
    "    average_loss = total_loss / len(dataloader_ndfa2.dataset)\n",
    "    print(f'Epoch [{epoch+1}/{num_epochs}], Average Loss: {average_loss:.4f}')\n",
    "\n",
    "torch.save(model.state_dict(), 'lstm_model.pth')\n"
   ]
  },
  {
   "cell_type": "code",
   "execution_count": null,
   "metadata": {},
   "outputs": [],
   "source": [
    "for epoch in range(num_epochs):\n",
    "    total_loss = 0.0\n",
    "\n",
    "\n",
    "    for batch_idx, (inputs,) in enumerate(dataloader_ndfa):\n",
    "        print(f'Batch Index: {batch_idx}, Batch Size: {inputs.size(0)}')        \n",
    "        optimizer.zero_grad()\n",
    "\n",
    "        # Autoregressive training\n",
    "        h = None\n",
    "\n",
    "        input_seq = inputs[:, batch_idx:batch_idx+seq_len] # Input sequence up to time step t\n",
    "        target_word = inputs[:, batch_idx+1:batch_idx+seq_len+1]  # Target is the next word (shifted by one time step)\n",
    "\n",
    "        # Forward pass\n",
    "        output, _ = model(input_seq, h)\n",
    "\n",
    "        # Compute the loss\n",
    "        loss = criterion(output, target_word)  \n",
    "\n",
    "        # Backward pass and optimization\n",
    "        loss.backward()\n",
    "        optimizer.step()\n",
    "\n",
    "        total_loss += loss.item()\n",
    "\n",
    "        # Print the current iteration (outside the inner loop)\n",
    "        print(f'Epoch [{epoch+1}/{num_epochs}], Iteration [{batch_idx+1}/{len(dataloader_ndfa)}], Loss: {loss.item():.4f}')\n",
    "\n",
    "    average_loss = total_loss / len(dataloader_ndfa.dataset)\n",
    "    print(f'Epoch [{epoch+1}/{num_epochs}], Average Loss: {average_loss:.4f}')\n",
    "\n",
    "torch.save(model.state_dict(), 'lstm_model.pth')\n"
   ]
  },
  {
   "cell_type": "code",
   "execution_count": null,
   "metadata": {},
   "outputs": [],
   "source": [
    "import torch.distributions as dist\n",
    "def sample(lnprobs, temperature=1.0):\n",
    "    \"\"\"\n",
    "    Sample an element from a categorical distribution\n",
    "    :param lnprobs: Outcome logits\n",
    "    :param temperature: Sampling temperature. 1.0 follows the given\n",
    "        distribution, 0.0 returns the maximum probability element. :return: The index of the sampled element.\n",
    "    \"\"\"\n",
    "    if temperature == 0.0:\n",
    "        return lnprobs.argmax()\n",
    "    p = F.softmax(lnprobs / temperature, dim=0)\n",
    "    cd = dist.Categorical(p)\n",
    "    \n",
    "    return cd.sample()"
   ]
  },
  {
   "cell_type": "code",
   "execution_count": 42,
   "metadata": {},
   "outputs": [],
   "source": [
    "seq = [w2i_brackets['.start'], w2i_brackets['('], w2i_brackets['('], w2i_brackets[')']]\n",
    "seed_sequence_tensor = torch.tensor(seq).unsqueeze(0)"
   ]
  },
  {
   "cell_type": "code",
   "execution_count": 43,
   "metadata": {},
   "outputs": [],
   "source": [
    "model.eval()\n",
    "max_length = 50\n",
    "end_token = w2i_brackets['.end']"
   ]
  },
  {
   "cell_type": "code",
   "execution_count": 44,
   "metadata": {},
   "outputs": [],
   "source": [
    "with torch.no_grad():\n",
    "    for _ in range(max_length):\n",
    "        logits, _ = model(seed_sequence_tensor, None)\n",
    "        last_word_logits = output[:, -1, :]\n",
    "        p = F.softmax(last_word_logits, dim=-1)\n",
    "\n",
    "        next_word = sample(p)\n",
    "        if next_word == end_token:\n",
    "            break\n",
    "        \n",
    "        seq.append(next_word.item())\n",
    "        seed_sequence_tensor = torch.tensor(seq).unsqueeze(0)\n"
   ]
  },
  {
   "cell_type": "code",
   "execution_count": 45,
   "metadata": {},
   "outputs": [
    {
     "ename": "IndexError",
     "evalue": "list index out of range",
     "output_type": "error",
     "traceback": [
      "\u001b[0;31m---------------------------------------------------------------------------\u001b[0m",
      "\u001b[0;31mIndexError\u001b[0m                                Traceback (most recent call last)",
      "Cell \u001b[0;32mIn[45], line 1\u001b[0m\n\u001b[0;32m----> 1\u001b[0m generated_sequence \u001b[38;5;241m=\u001b[39m [i2w_brackets[i] \u001b[38;5;28;01mfor\u001b[39;00m i \u001b[38;5;129;01min\u001b[39;00m seq]\n",
      "Cell \u001b[0;32mIn[45], line 1\u001b[0m, in \u001b[0;36m<listcomp>\u001b[0;34m(.0)\u001b[0m\n\u001b[0;32m----> 1\u001b[0m generated_sequence \u001b[38;5;241m=\u001b[39m [\u001b[43mi2w_brackets\u001b[49m\u001b[43m[\u001b[49m\u001b[43mi\u001b[49m\u001b[43m]\u001b[49m \u001b[38;5;28;01mfor\u001b[39;00m i \u001b[38;5;129;01min\u001b[39;00m seq]\n",
      "\u001b[0;31mIndexError\u001b[0m: list index out of range"
     ]
    }
   ],
   "source": [
    "generated_sequence = [i2w_brackets[i] for i in seq]"
   ]
  },
  {
   "cell_type": "code",
   "execution_count": 15,
   "metadata": {},
   "outputs": [
    {
     "name": "stdout",
     "output_type": "stream",
     "text": [
      "LSTM(\n",
      "  (embedding): Embedding(15, 300)\n",
      "  (lstm): LSTM(300, 300, batch_first=True)\n",
      "  (fc): Linear(in_features=300, out_features=15, bias=True)\n",
      ")\n"
     ]
    }
   ],
   "source": [
    "print(model)"
   ]
  }
 ],
 "metadata": {
  "kernelspec": {
   "display_name": "Python 3",
   "language": "python",
   "name": "python3"
  },
  "language_info": {
   "codemirror_mode": {
    "name": "ipython",
    "version": 3
   },
   "file_extension": ".py",
   "mimetype": "text/x-python",
   "name": "python",
   "nbconvert_exporter": "python",
   "pygments_lexer": "ipython3",
   "version": "3.10.10"
  }
 },
 "nbformat": 4,
 "nbformat_minor": 2
}
