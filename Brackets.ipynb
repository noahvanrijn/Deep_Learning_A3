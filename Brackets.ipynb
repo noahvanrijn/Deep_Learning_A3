{
 "cells": [
  {
   "cell_type": "code",
   "execution_count": 1,
   "metadata": {},
   "outputs": [],
   "source": [
    "from data_rnn import load_ndfa, load_brackets\n",
    "# from data_prep import pad_and_convert\n",
    "import pandas as pd\n",
    "import numpy as np\n",
    "import torch\n",
    "from torch import nn\n",
    "import torch.nn.functional as F\n",
    "from torch.utils.data import DataLoader, TensorDataset"
   ]
  },
  {
   "cell_type": "code",
   "execution_count": 2,
   "metadata": {},
   "outputs": [],
   "source": [
    "x_train_ndfa, (i2w_ndfa, w2i_ndfa) = load_ndfa(n=150_000)\n",
    "x_train_brackets, (i2w_brackets, w2i_brackets) = load_brackets(n=150_000)"
   ]
  },
  {
   "cell_type": "code",
   "execution_count": 62,
   "metadata": {},
   "outputs": [
    {
     "data": {
      "text/plain": [
       "[5, 4]"
      ]
     },
     "execution_count": 62,
     "metadata": {},
     "output_type": "execute_result"
    }
   ],
   "source": [
    "x_train_brackets[0]"
   ]
  },
  {
   "cell_type": "code",
   "execution_count": 3,
   "metadata": {},
   "outputs": [
    {
     "name": "stdout",
     "output_type": "stream",
     "text": [
      "ss\n"
     ]
    }
   ],
   "source": [
    "print(''.join([i2w_ndfa[i] for i in x_train_ndfa[50]]))\n"
   ]
  },
  {
   "cell_type": "code",
   "execution_count": 4,
   "metadata": {},
   "outputs": [],
   "source": [
    "# print(''.join([i2w_brackets[i] for i in x_train_brackets[10_000]]))\n"
   ]
  },
  {
   "cell_type": "code",
   "execution_count": 5,
   "metadata": {},
   "outputs": [],
   "source": [
    "device = torch.device('cuda' if torch.cuda.is_available() else 'cpu')\n"
   ]
  },
  {
   "cell_type": "code",
   "execution_count": 69,
   "metadata": {},
   "outputs": [
    {
     "data": {
      "text/plain": [
       "['.pad', '.start', '.end', '.unk', ')', '(']"
      ]
     },
     "execution_count": 69,
     "metadata": {},
     "output_type": "execute_result"
    }
   ],
   "source": [
    "i2w_brackets"
   ]
  },
  {
   "cell_type": "code",
   "execution_count": 6,
   "metadata": {},
   "outputs": [],
   "source": [
    "class LSTM(nn.Module):\n",
    "    def __init__(self, vocab_size, emb_size, h, num_char, n_layers=1):\n",
    "        super(LSTM, self).__init__()\n",
    "\n",
    "        self.embedding = nn.Embedding(vocab_size, emb_size)\n",
    "        self.lstm = nn.LSTM(input_size=emb_size, hidden_size=h, num_layers=n_layers, batch_first=True)\n",
    "        self.fc = nn.Linear(h, num_char)\n",
    "    \n",
    "    def forward(self, input_seq, h=None):\n",
    "        embedded = self.embedding(input_seq)\n",
    "        lstm_out, hidden = self.lstm(embedded, h)\n",
    "        # lstm_out = lstm_out[:, -1, :]\n",
    "        output = self.fc(lstm_out)\n",
    "        # raise Exception('stop')\n",
    "        return output, hidden"
   ]
  },
  {
   "cell_type": "code",
   "execution_count": 8,
   "metadata": {},
   "outputs": [],
   "source": [
    "def pad_and_convert3(batch, w2i, batch_size):\n",
    "    start_token = w2i['.start']\n",
    "    end_token = w2i['.end']\n",
    "    pad_token = w2i['.pad']\n",
    "\n",
    "    num_examples = len(batch)\n",
    "    num_batches = (num_examples + batch_size - 1) // batch_size\n",
    "    \n",
    "    # Create batches\n",
    "    batches = [batch[i * batch_size: (i + 1) * batch_size] for i in range(num_batches)]\n",
    "    \n",
    "    padded_batches = []\n",
    "    \n",
    "    for b in batches:\n",
    "        # Pad each sequence in the batch to the maximum length within the batch\n",
    "        b = [[start_token] + x + [end_token] for x in b]\n",
    "        max_len = max(len(x) for x in b)\n",
    "        padded_batch = [x + [pad_token] * (max_len - len(x)) for x in b]\n",
    "        padded_batches.append(padded_batch)\n",
    "\n",
    "    # Convert the padded batches to PyTorch tensors\n",
    "    padded_batches = [torch.tensor(pb, dtype=torch.long) for pb in padded_batches]\n",
    "\n",
    "    return padded_batches"
   ]
  },
  {
   "cell_type": "code",
   "execution_count": 9,
   "metadata": {},
   "outputs": [],
   "source": [
    "x_train_ndfa_padded3 = pad_and_convert3(x_train_ndfa, w2i_ndfa, batch_size=64)\n",
    "x_train_brackets_padded3 = pad_and_convert3(x_train_brackets, w2i_brackets, batch_size=64)"
   ]
  },
  {
   "cell_type": "code",
   "execution_count": 10,
   "metadata": {},
   "outputs": [
    {
     "data": {
      "text/plain": [
       "torch.Size([64, 8])"
      ]
     },
     "execution_count": 10,
     "metadata": {},
     "output_type": "execute_result"
    }
   ],
   "source": [
    "x_train_ndfa_padded3[584].shape"
   ]
  },
  {
   "cell_type": "markdown",
   "metadata": {},
   "source": [
    "pad_and_convert maakt erg lange sequences, moet 158 + .start + .end niet de langst zijn?\n",
    "\n",
    "Heb een andere functie maar hij doet nog steeds dezelfde loss (0)"
   ]
  },
  {
   "cell_type": "code",
   "execution_count": 30,
   "metadata": {},
   "outputs": [],
   "source": [
    "vocab_size = len(w2i_brackets)\n",
    "emb_size = 32\n",
    "h = 16\n",
    "num_char = vocab_size\n",
    "n_layers = 1"
   ]
  },
  {
   "cell_type": "code",
   "execution_count": 31,
   "metadata": {},
   "outputs": [],
   "source": [
    "model = LSTM(vocab_size=vocab_size, emb_size=emb_size, h=h, num_char=num_char, n_layers=1)"
   ]
  },
  {
   "cell_type": "code",
   "execution_count": 41,
   "metadata": {},
   "outputs": [],
   "source": [
    "num_epochs = 10\n",
    "learning_rate = 0.001"
   ]
  },
  {
   "cell_type": "code",
   "execution_count": 42,
   "metadata": {},
   "outputs": [],
   "source": [
    "criterion = nn.CrossEntropyLoss()\n",
    "optimizer = torch.optim.Adam(model.parameters(), lr=learning_rate)"
   ]
  },
  {
   "cell_type": "code",
   "execution_count": 43,
   "metadata": {},
   "outputs": [],
   "source": [
    "def create_target2(padded_batches):\n",
    "    target_batches = []\n",
    "\n",
    "    for batch in padded_batches:\n",
    "        target_batch = torch.cat((batch[:, 1:], torch.zeros(batch.size(0), 1).int()), dim=1)\n",
    "        target_batches.append(target_batch)\n",
    "    return target_batches"
   ]
  },
  {
   "cell_type": "code",
   "execution_count": 70,
   "metadata": {},
   "outputs": [
    {
     "name": "stdout",
     "output_type": "stream",
     "text": [
      "tensor([[1, 5, 5,  ..., 0, 0, 0],\n",
      "        [1, 5, 5,  ..., 0, 0, 0],\n",
      "        [1, 5, 5,  ..., 0, 0, 0],\n",
      "        ...,\n",
      "        [1, 5, 5,  ..., 0, 0, 0],\n",
      "        [1, 5, 5,  ..., 0, 0, 0],\n",
      "        [1, 5, 5,  ..., 4, 4, 2]])\n"
     ]
    }
   ],
   "source": [
    "print(x_train_brackets_padded3[-1])"
   ]
  },
  {
   "cell_type": "code",
   "execution_count": 44,
   "metadata": {},
   "outputs": [],
   "source": [
    "target_ndfa2 = create_target2(x_train_ndfa_padded3)\n",
    "target_brackets2 = create_target2(x_train_brackets_padded3)"
   ]
  },
  {
   "cell_type": "code",
   "execution_count": 45,
   "metadata": {},
   "outputs": [],
   "source": [
    "import torch.distributions as dist\n",
    "def sample(lnprobs, temperature=1.0): \n",
    "    \"\"\"\n",
    "    Sample an element from a categorical distribution\n",
    "    :param lnprobs: Outcome logits\n",
    "    :param temperature: Sampling temperature. 1.0 follows the given\n",
    "        distribution, 0.0 returns the maximum probability element. :return: The index of the sampled element.\n",
    "    \"\"\"\n",
    "    if temperature == 0.0:\n",
    "        return lnprobs.argmax()\n",
    "    p = F.softmax(lnprobs / temperature, dim=0)\n",
    "    cd = dist.Categorical(p)\n",
    "    return cd.sample()"
   ]
  },
  {
   "cell_type": "code",
   "execution_count": 46,
   "metadata": {},
   "outputs": [],
   "source": [
    "trainloader_ndfa = list(zip(x_train_ndfa_padded3, target_ndfa2))\n",
    "trainloader_brackets = list(zip(x_train_brackets_padded3, target_brackets2))"
   ]
  },
  {
   "cell_type": "code",
   "execution_count": 47,
   "metadata": {},
   "outputs": [
    {
     "name": "stdout",
     "output_type": "stream",
     "text": [
      "Epoch [1/10], Average Loss: 0.1512\n",
      "Epoch [2/10], Average Loss: 0.1449\n",
      "Epoch [3/10], Average Loss: 0.1392\n",
      "Epoch [4/10], Average Loss: 0.1399\n",
      "Epoch [5/10], Average Loss: 0.1376\n",
      "Epoch [6/10], Average Loss: 0.1499\n",
      "Epoch [7/10], Average Loss: 0.1386\n",
      "Epoch [8/10], Average Loss: 0.1392\n",
      "Epoch [9/10], Average Loss: 0.1505\n",
      "Epoch [10/10], Average Loss: 0.1529\n"
     ]
    }
   ],
   "source": [
    "max_length = 50\n",
    "for epoch in range(num_epochs):\n",
    "    total_loss = 0.0\n",
    "\n",
    "    for batch_idx, (inputs, targets) in enumerate(trainloader_brackets):\n",
    "        # print(f'Batch Index: {batch_idx}, Batch Size: {inputs.size(0)}')\n",
    "\n",
    "        model.train()        \n",
    "        optimizer.zero_grad()\n",
    "\n",
    "        h = None\n",
    "        \n",
    "        output, _ = model(inputs, h)\n",
    "\n",
    "        output = output.reshape(-1, vocab_size)\n",
    "        targets = targets.reshape(-1)\n",
    "\n",
    "        loss = criterion(output, targets)  \n",
    "\n",
    "        loss.backward()\n",
    "        optimizer.step()\n",
    "\n",
    "        total_loss += loss.item()\n",
    "\n",
    "        # print(f'Epoch [{epoch+1}/{num_epochs}], Iteration [{batch_idx+1}/{len(trainloader_brackets)}], Loss: {total_loss:.4f}')\n",
    "\n",
    "    average_loss = total_loss / len(trainloader_brackets)\n",
    "    print(f'Epoch [{epoch+1}/{num_epochs}], Average Loss: {average_loss:.4f}')\n",
    "\n",
    "torch.save(model.state_dict(), 'lstm_model_brackets.pth')"
   ]
  },
  {
   "cell_type": "code",
   "execution_count": 56,
   "metadata": {},
   "outputs": [
    {
     "name": "stdout",
     "output_type": "stream",
     "text": [
      "Generated samples after epoch 1\n",
      "['.start(().end']\n",
      "['.start(().end']\n",
      "['.start(().end']\n",
      "['.start(().end']\n",
      "['.start(().end']\n",
      "['.start(().end']\n",
      "['.start(().end']\n",
      "['.start(().end']\n",
      "['.start(().end']\n",
      "['.start(().end']\n",
      "Epoch [1/10], Average Loss: 1.7667\n",
      "Generated samples after epoch 2\n",
      "['.start(().end']\n",
      "['.start(().end']\n",
      "['.start(())']\n",
      "['.start(().end']\n",
      "['.start(().end']\n",
      "['.start(().end']\n",
      "['.start(().end']\n",
      "['.start(().end']\n",
      "['.start(().end']\n",
      "['.start(())']\n",
      "Epoch [2/10], Average Loss: 1.7667\n",
      "Generated samples after epoch 3\n",
      "['.start(().end']\n",
      "['.start(().end']\n",
      "['.start(().end']\n",
      "['.start(().end']\n",
      "['.start(().end']\n",
      "['.start(().end']\n",
      "['.start(().end']\n",
      "['.start(().end']\n",
      "['.start(().end']\n",
      "['.start(().end']\n",
      "Epoch [3/10], Average Loss: 1.7667\n",
      "Generated samples after epoch 4\n",
      "['.start(().end']\n",
      "['.start(().end']\n",
      "['.start(().end']\n",
      "['.start(().end']\n",
      "['.start(().end']\n",
      "['.start(().end']\n",
      "['.start(())']\n",
      "['.start(().end']\n",
      "['.start(().end']\n",
      "['.start(().end']\n",
      "Epoch [4/10], Average Loss: 1.7667\n",
      "Generated samples after epoch 5\n",
      "['.start(().end']\n",
      "['.start(().end']\n",
      "['.start(().end']\n",
      "['.start(().end']\n",
      "['.start(().end']\n",
      "['.start(().end']\n",
      "['.start(().end']\n",
      "['.start(().end']\n",
      "['.start(().end']\n",
      "['.start(().end']\n",
      "Epoch [5/10], Average Loss: 1.7667\n",
      "Generated samples after epoch 6\n",
      "['.start(().end']\n",
      "['.start(().end']\n",
      "['.start(().end']\n",
      "['.start(().end']\n",
      "['.start(().end']\n",
      "['.start(().end']\n",
      "['.start(().end']\n",
      "['.start(().end']\n",
      "['.start(().end']\n",
      "['.start(().end']\n",
      "Epoch [6/10], Average Loss: 1.7667\n",
      "Generated samples after epoch 7\n",
      "['.start(())']\n",
      "['.start(().end']\n",
      "['.start(().end']\n",
      "['.start(().end']\n",
      "['.start(().end']\n",
      "['.start(().end']\n",
      "['.start(())']\n",
      "['.start(().end']\n",
      "['.start(().end']\n",
      "['.start(())']\n",
      "Epoch [7/10], Average Loss: 1.7667\n",
      "Generated samples after epoch 8\n",
      "['.start(().end']\n",
      "['.start(().end']\n",
      "['.start(().end']\n",
      "['.start(().end']\n",
      "['.start(().end']\n",
      "['.start(().end']\n",
      "['.start(().end']\n",
      "['.start(())']\n",
      "['.start(().end']\n",
      "['.start(().end']\n",
      "Epoch [8/10], Average Loss: 1.7667\n",
      "Generated samples after epoch 9\n",
      "['.start(().end']\n",
      "['.start(().end']\n",
      "['.start(().end']\n",
      "['.start(().end']\n",
      "['.start(().end']\n",
      "['.start(().end']\n",
      "['.start(().end']\n",
      "['.start(().end']\n",
      "['.start(().end']\n",
      "['.start(().end']\n",
      "Epoch [9/10], Average Loss: 1.7667\n",
      "Generated samples after epoch 10\n",
      "['.start(().end']\n",
      "['.start(().end']\n",
      "['.start(().end']\n",
      "['.start(())']\n",
      "['.start(().end']\n",
      "['.start(().end']\n",
      "['.start(().end']\n",
      "['.start(().end']\n",
      "['.start(().end']\n",
      "['.start(().end']\n",
      "Epoch [10/10], Average Loss: 1.7667\n"
     ]
    }
   ],
   "source": [
    "model = LSTM(vocab_size=len(set(w2i_brackets)), emb_size=300, h=300, num_char=len(set(w2i_brackets)), n_layers=1)\n",
    "\n",
    "for epoch in range(num_epochs):\n",
    "    total_loss = 0.0\n",
    "\n",
    "    for batch_idx, (inputs, targets) in enumerate(trainloader_brackets):\n",
    "        # print(f'Batch Index: {batch_idx}, Batch Size: {inputs.size(0)}')\n",
    "\n",
    "        model.train()        \n",
    "        optimizer.zero_grad()\n",
    "\n",
    "        h = None\n",
    "        \n",
    "        output, _ = model(inputs, h)\n",
    "\n",
    "        # print('output shape', output.shape)\n",
    "        output = output.reshape(-1, vocab_size)\n",
    "        # print('output shape', output.shape)\n",
    "        targets = targets.reshape(-1)\n",
    "\n",
    "\n",
    "        loss = criterion(output, targets)  \n",
    "\n",
    "        loss.backward()\n",
    "        optimizer.step()\n",
    "\n",
    "        total_loss += loss.item()\n",
    "\n",
    "        # print(f'Epoch [{epoch+1}/{num_epochs}], Iteration [{batch_idx+1}/{len(trainloader_brackets)}], Loss: {total_loss:.4f}')\n",
    "\n",
    "    model.eval()\n",
    "    with torch.no_grad():\n",
    "        print(f'Generated samples after epoch {epoch+1}')\n",
    "        for _ in range(10):\n",
    "            for t in range(max_length - 1):\n",
    "                seed_seq = [w2i_brackets['.start'], w2i_brackets['('], w2i_brackets['('], w2i_brackets[')']]\n",
    "                seed_input = torch.tensor([seed_seq], dtype=torch.long)\n",
    "                output, _ = model(seed_input, h)\n",
    "                # print('output', output[0, -1, :])\n",
    "                next_token = sample(output[0, -1, :], temperature=0.1)\n",
    "                # print('next token', next_token)\n",
    "                seed_seq.append(next_token.item())\n",
    "\n",
    "                if next_token == w2i_brackets['.end']:\n",
    "                    break\n",
    "\n",
    "                seed_input = torch.tensor([[next_token]], dtype=torch.long)\n",
    "                # print('seed seq', seed_seq)\n",
    "            \n",
    "            generated_sequence = [''.join(i2w_brackets[i] for i in seed_seq)]\n",
    "            print(f'{generated_sequence}')\n",
    "\n",
    "    average_loss = total_loss / len(trainloader_brackets)\n",
    "    print(f'Epoch [{epoch+1}/{num_epochs}], Average Loss: {average_loss:.4f}')\n",
    "\n",
    "torch.save(model.state_dict(), 'lstm_model.pth')"
   ]
  },
  {
   "cell_type": "code",
   "execution_count": null,
   "metadata": {},
   "outputs": [],
   "source": []
  }
 ],
 "metadata": {
  "kernelspec": {
   "display_name": "Python 3",
   "language": "python",
   "name": "python3"
  },
  "language_info": {
   "codemirror_mode": {
    "name": "ipython",
    "version": 3
   },
   "file_extension": ".py",
   "mimetype": "text/x-python",
   "name": "python",
   "nbconvert_exporter": "python",
   "pygments_lexer": "ipython3",
   "version": "3.10.13"
  }
 },
 "nbformat": 4,
 "nbformat_minor": 2
}
