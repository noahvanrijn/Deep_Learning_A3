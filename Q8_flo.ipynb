{
 "cells": [
  {
   "cell_type": "code",
   "execution_count": 3,
   "metadata": {},
   "outputs": [
    {
     "name": "stderr",
     "output_type": "stream",
     "text": [
      "2023-12-14 11:54:29.538710: I tensorflow/core/platform/cpu_feature_guard.cc:182] This TensorFlow binary is optimized to use available CPU instructions in performance-critical operations.\n",
      "To enable the following instructions: AVX2 FMA, in other operations, rebuild TensorFlow with the appropriate compiler flags.\n"
     ]
    }
   ],
   "source": [
    "from data_rnn import load_ndfa, load_brackets\n",
    "from data_prep import pad_and_convert\n",
    "import pandas as pd\n",
    "import numpy as np\n",
    "import torch\n",
    "from torch import nn\n",
    "import torch.nn.functional as F\n",
    "from torch.utils.data import DataLoader, TensorDataset\n",
    "from torch.utils.tensorboard import SummaryWriter"
   ]
  },
  {
   "cell_type": "code",
   "execution_count": 15,
   "metadata": {},
   "outputs": [],
   "source": [
    "writer = SummaryWriter('Question_8')"
   ]
  },
  {
   "cell_type": "code",
   "execution_count": 21,
   "metadata": {},
   "outputs": [],
   "source": [
    "x_train_ndfa, (i2w_ndfa, w2i_ndfa) = load_ndfa(n=1500)\n",
    "x_train_brackets, (i2w_brackets, w2i_brackets) = load_brackets(n=150_000)"
   ]
  },
  {
   "cell_type": "code",
   "execution_count": 22,
   "metadata": {},
   "outputs": [],
   "source": [
    "device = torch.device('cuda' if torch.cuda.is_available() else 'cpu')\n"
   ]
  },
  {
   "cell_type": "code",
   "execution_count": 23,
   "metadata": {},
   "outputs": [],
   "source": [
    "class LSTM(nn.Module):\n",
    "    def __init__(self, vocab_size, emb_size, h, num_char, n_layers=1):\n",
    "        super(LSTM, self).__init__()\n",
    "\n",
    "        self.embedding = nn.Embedding(vocab_size, emb_size)\n",
    "        self.lstm = nn.LSTM(input_size=emb_size, hidden_size=h, num_layers=n_layers, batch_first=True)\n",
    "        self.fc = nn.Linear(h, num_char)\n",
    "    \n",
    "    def forward(self, input_seq, h):\n",
    "        embedded = self.embedding(input_seq)\n",
    "        lstm_out, hidden = self.lstm(embedded, h)\n",
    "        lstm_out = lstm_out[:, -1, :]\n",
    "        output = self.fc(lstm_out)\n",
    "        return output, hidden"
   ]
  },
  {
   "cell_type": "code",
   "execution_count": 24,
   "metadata": {},
   "outputs": [],
   "source": [
    "def pad_and_convert2(batch, w2i):\n",
    "    start_token = w2i['.start']\n",
    "    end_token = w2i['.end']\n",
    "    \n",
    "    batch = [[start_token] + x + [end_token] for x in batch]\n",
    "    \n",
    "    max_len = max([len(x) for x in batch])\n",
    "    \n",
    "    batch = [x + [w2i['.pad']] * (max_len - len(x)) for x in batch]\n",
    "    \n",
    "    batch = torch.tensor(batch, dtype=torch.long)\n",
    "    \n",
    "    return batch"
   ]
  },
  {
   "cell_type": "code",
   "execution_count": 25,
   "metadata": {},
   "outputs": [],
   "source": [
    "x_train_ndfa_padded2 = pad_and_convert2(x_train_ndfa, w2i_ndfa)\n",
    "x_train_brackets_padded2 = pad_and_convert2(x_train_brackets, w2i_brackets)"
   ]
  },
  {
   "cell_type": "code",
   "execution_count": 26,
   "metadata": {},
   "outputs": [],
   "source": [
    "model = LSTM(vocab_size=len(set(w2i_ndfa)), emb_size=300, h=300, num_char=len(set(w2i_ndfa)), n_layers=1)"
   ]
  },
  {
   "cell_type": "code",
   "execution_count": 35,
   "metadata": {},
   "outputs": [],
   "source": [
    "vocab_size = len(set(w2i_ndfa))\n",
    "emb_size = 300\n",
    "h = 300\n",
    "num_char = vocab_size\n",
    "n_layers = 1\n",
    "num_epochs = 2\n",
    "learning_rate = 0.001"
   ]
  },
  {
   "cell_type": "code",
   "execution_count": 28,
   "metadata": {},
   "outputs": [
    {
     "data": {
      "text/plain": [
       "2"
      ]
     },
     "execution_count": 28,
     "metadata": {},
     "output_type": "execute_result"
    }
   ],
   "source": [
    "w2i_brackets['.end']"
   ]
  },
  {
   "cell_type": "code",
   "execution_count": 29,
   "metadata": {},
   "outputs": [
    {
     "data": {
      "text/plain": [
       "2"
      ]
     },
     "execution_count": 29,
     "metadata": {},
     "output_type": "execute_result"
    }
   ],
   "source": [
    "w2i_ndfa['.end']"
   ]
  },
  {
   "cell_type": "code",
   "execution_count": 30,
   "metadata": {},
   "outputs": [],
   "source": [
    "criterion = nn.CrossEntropyLoss(ignore_index=2,reduction='sum')\n",
    "optimizer = torch.optim.Adam(model.parameters(), lr=learning_rate)"
   ]
  },
  {
   "cell_type": "code",
   "execution_count": 31,
   "metadata": {},
   "outputs": [],
   "source": [
    "dataset_ndfa2 = TensorDataset(x_train_ndfa_padded2)\n",
    "dataloader_ndfa2 = DataLoader(dataset_ndfa2, batch_size=64, shuffle=True)\n",
    "dataset_brackets2 = TensorDataset(x_train_brackets_padded2)\n",
    "dataloader_brackets2 = DataLoader(dataset_brackets2, batch_size=10, shuffle=True)"
   ]
  },
  {
   "cell_type": "code",
   "execution_count": 32,
   "metadata": {},
   "outputs": [],
   "source": [
    "import torch.distributions as dist\n",
    "def sample(lnprobs, temperature=1.0): \n",
    "    \"\"\"\n",
    "    Sample an element from a categorical distribution\n",
    "    :param lnprobs: Outcome logits\n",
    "    :param temperature: Sampling temperature. 1.0 follows the given\n",
    "        distribution, 0.0 returns the maximum probability element. :return: The index of the sampled element.\n",
    "    \"\"\"\n",
    "    if temperature == 0.0:\n",
    "        return lnprobs.argmax()\n",
    "    p = F.softmax(lnprobs / temperature, dim=0)\n",
    "    cd = dist.Categorical(p)\n",
    "    return cd.sample()"
   ]
  },
  {
   "cell_type": "code",
   "execution_count": 36,
   "metadata": {},
   "outputs": [
    {
     "ename": "AttributeError",
     "evalue": "'SummaryWriter' object has no attribute 'add_scaler'",
     "output_type": "error",
     "traceback": [
      "\u001b[0;31m---------------------------------------------------------------------------\u001b[0m",
      "\u001b[0;31mAttributeError\u001b[0m                            Traceback (most recent call last)",
      "Cell \u001b[0;32mIn[36], line 40\u001b[0m\n\u001b[1;32m     37\u001b[0m         \u001b[38;5;28;01mif\u001b[39;00m param\u001b[38;5;241m.\u001b[39mgrad \u001b[38;5;129;01mis\u001b[39;00m \u001b[38;5;129;01mnot\u001b[39;00m \u001b[38;5;28;01mNone\u001b[39;00m:\n\u001b[1;32m     38\u001b[0m             writer\u001b[38;5;241m.\u001b[39madd_scalar(\u001b[38;5;124mf\u001b[39m\u001b[38;5;124m'\u001b[39m\u001b[38;5;124mGradient Norm/\u001b[39m\u001b[38;5;132;01m{\u001b[39;00mname\u001b[38;5;132;01m}\u001b[39;00m\u001b[38;5;124m'\u001b[39m, param\u001b[38;5;241m.\u001b[39mgrad\u001b[38;5;241m.\u001b[39mnorm()\u001b[38;5;241m.\u001b[39mitem(), global_step\u001b[38;5;241m=\u001b[39mepoch)\n\u001b[0;32m---> 40\u001b[0m \u001b[43mwriter\u001b[49m\u001b[38;5;241;43m.\u001b[39;49m\u001b[43madd_scaler\u001b[49m(\u001b[38;5;124m'\u001b[39m\u001b[38;5;124mAll Gradient Norm\u001b[39m\u001b[38;5;124m'\u001b[39m, allgradvec, epoch)\n\u001b[1;32m     42\u001b[0m writer\u001b[38;5;241m.\u001b[39madd_scalar(\u001b[38;5;124m'\u001b[39m\u001b[38;5;124mTraining Loss\u001b[39m\u001b[38;5;124m'\u001b[39m, average_loss, epoch)\n\u001b[1;32m     44\u001b[0m \u001b[38;5;28mprint\u001b[39m(\u001b[38;5;124mf\u001b[39m\u001b[38;5;124m'\u001b[39m\u001b[38;5;124mEpoch [\u001b[39m\u001b[38;5;132;01m{\u001b[39;00mepoch\u001b[38;5;241m+\u001b[39m\u001b[38;5;241m1\u001b[39m\u001b[38;5;132;01m}\u001b[39;00m\u001b[38;5;124m/\u001b[39m\u001b[38;5;132;01m{\u001b[39;00mnum_epochs\u001b[38;5;132;01m}\u001b[39;00m\u001b[38;5;124m], Average Loss: \u001b[39m\u001b[38;5;132;01m{\u001b[39;00maverage_loss\u001b[38;5;132;01m:\u001b[39;00m\u001b[38;5;124m.4f\u001b[39m\u001b[38;5;132;01m}\u001b[39;00m\u001b[38;5;124m'\u001b[39m)\n",
      "\u001b[0;31mAttributeError\u001b[0m: 'SummaryWriter' object has no attribute 'add_scaler'"
     ]
    }
   ],
   "source": [
    "max_length = 50\n",
    "for epoch in range(num_epochs):\n",
    "    total_loss = 0.0\n",
    "\n",
    "    for batch_idx, (inputs,) in enumerate(dataloader_ndfa2):\n",
    "        # print(f'Batch Index: {batch_idx}, Batch Size: {inputs.size(0)}')\n",
    "        model.train()        \n",
    "        optimizer.zero_grad()\n",
    "\n",
    "        # Autoregressive training\n",
    "        h = None\n",
    "        for t in range(inputs.size(1) - 1):\n",
    "            # total_loss = 0.0\n",
    "            input_seq = inputs[:, :t+1]\n",
    "            target_word = inputs[:, t+1]\n",
    "            # print('input_seq:', input_seq)\n",
    "            # print('target_word:', target_word)\n",
    "\n",
    "            output, _ = model(input_seq, h)\n",
    "\n",
    "            loss = criterion(output, target_word)  \n",
    "\n",
    "            loss.backward()\n",
    "\n",
    "            allgradvec = torch.nn.utils.clip_grad_norm_(model.parameters(), max_norm=1.0)\n",
    "\n",
    "            optimizer.step()\n",
    "\n",
    "            total_loss += loss.item()\n",
    "            \n",
    "\n",
    "        # print(f'Epoch [{epoch+1}/{num_epochs}], Iteration [{batch_idx+1}/{len(dataloader_ndfa2)}], Loss: {total_loss:.4f}')\n",
    "\n",
    "    average_loss = total_loss / len(dataloader_ndfa2.dataset)\n",
    "\n",
    "    for name, param in model.named_parameters():\n",
    "            if param.grad is not None:\n",
    "                writer.add_scalar(f'Gradient Norm/{name}', param.grad.norm().item(), global_step=epoch)\n",
    "                \n",
    "    writer.add_scaler('All Gradient Norm', allgradvec, epoch)\n",
    "\n",
    "    writer.add_scalar('Training Loss', average_loss, epoch)\n",
    "\n",
    "    print(f'Epoch [{epoch+1}/{num_epochs}], Average Loss: {average_loss:.4f}')\n",
    "\n",
    "torch.save(model.state_dict(), 'lstm_model_ndfa_q8.pth')\n"
   ]
  },
  {
   "cell_type": "code",
   "execution_count": 34,
   "metadata": {},
   "outputs": [
    {
     "name": "stdout",
     "output_type": "stream",
     "text": [
      "\n",
      "NOTE: Using experimental fast data loading logic. To disable, pass\n",
      "    \"--load_fast=false\" and report issues on GitHub. More details:\n",
      "    https://github.com/tensorflow/tensorboard/issues/4784\n",
      "\n",
      "Serving TensorBoard on localhost; to expose to the network, use a proxy or pass --bind_all\n",
      "TensorBoard 2.13.0 at http://localhost:6006/ (Press CTRL+C to quit)\n",
      "^C\n"
     ]
    }
   ],
   "source": [
    "!tensorboard --logdir=runs"
   ]
  },
  {
   "cell_type": "code",
   "execution_count": null,
   "metadata": {},
   "outputs": [],
   "source": [
    "writer.close()"
   ]
  }
 ],
 "metadata": {
  "kernelspec": {
   "display_name": "Python 3",
   "language": "python",
   "name": "python3"
  },
  "language_info": {
   "codemirror_mode": {
    "name": "ipython",
    "version": 3
   },
   "file_extension": ".py",
   "mimetype": "text/x-python",
   "name": "python",
   "nbconvert_exporter": "python",
   "pygments_lexer": "ipython3",
   "version": "3.10.10"
  }
 },
 "nbformat": 4,
 "nbformat_minor": 2
}
